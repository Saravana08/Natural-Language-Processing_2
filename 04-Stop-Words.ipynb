{
 "cells": [
  {
   "cell_type": "markdown",
   "metadata": {},
   "source": [
    "___\n",
    "\n",
    "___"
   ]
  },
  {
   "cell_type": "markdown",
   "metadata": {},
   "source": [
    "# Stop Words\n",
    "Words like \"a\" and \"the\" appear so frequently that they don't require tagging as thoroughly as nouns, verbs and modifiers. We call these *stop words*, and they can be filtered from the text to be processed. spaCy holds a built-in list of some 305 English stop words."
   ]
  },
  {
   "cell_type": "code",
   "execution_count": 1,
   "metadata": {
    "collapsed": true
   },
   "outputs": [],
   "source": [
    "# Perform standard imports:\n",
    "import spacy\n",
    "nlp = spacy.load('en_core_web_sm')"
   ]
  },
  {
   "cell_type": "code",
   "execution_count": 2,
   "metadata": {},
   "outputs": [
    {
     "name": "stdout",
     "output_type": "stream",
     "text": [
      "{'more', 'others', 'as', 'itself', 'take', 'whose', 'been', 'become', 'seemed', 'during', 'seeming', 'indeed', 'whether', 'or', 'throughout', 'cannot', 'because', 'often', 'ours', 'what', 'twenty', 'you', 'his', 'three', 'six', 'out', 'besides', 'the', 'while', 'along', 'thereby', 'very', 'her', 'seems', 'somewhere', 'was', 'where', 'whereafter', 'show', 'from', 'these', 'together', 'myself', 'give', 'here', 'must', 'by', 'up', 'wherein', 'side', 'front', 'most', 'just', 'how', 'can', 'enough', 'empty', 'used', 'ever', 'behind', 'will', 'yet', 'keep', 'top', 'yourselves', 'namely', 'thereupon', 'them', 'neither', 'it', 'and', 'is', 'upon', 'nothing', 'none', 'a', 'full', 'rather', 'nowhere', 'well', 'however', 'everything', 'again', 'over', 'much', 'using', 'quite', 'regarding', 'too', 'whoever', 'due', 'four', 'last', 'such', 'various', 'with', 'among', 'every', 'amount', 'any', 'thru', 'he', 'being', 'could', 'meanwhile', 'if', 'own', 'now', 'anywhere', 'without', 'became', 'latter', 'other', 'even', 'five', 'formerly', 'sixty', 'why', 'my', 'noone', 'ca', 'further', 'though', 'first', 'via', 'third', 'those', 'alone', 'eight', 'himself', 'our', 'see', 'done', 'above', 'fifteen', 'i', 'move', 'nor', 'before', 'onto', 'sometime', 'when', 'whereby', 'either', 'not', 'who', 'within', 'latterly', 'whither', 'whenever', 'thence', 'bottom', 'through', 'in', 'might', 'say', 'hundred', 'unless', 'against', 'beside', 'go', 'hers', 'many', 'another', 'except', 'ourselves', 'back', 'herself', 'mostly', 'off', 'that', 'toward', 'anything', 'make', 'really', 'hereafter', 'several', 'ten', 'thus', 'do', 'whereupon', 'doing', 'hereby', 'sometimes', 'whole', 'although', 'does', 'twelve', 'almost', 'amongst', 'less', 'all', 'its', 'am', 'one', 'made', 'for', 'anyone', 'your', 'into', 'below', 'else', 'about', 'be', 'becomes', 'wherever', 'whereas', 'each', 'this', 'me', 'at', 'towards', 'whom', 'eleven', 'no', 'to', 'least', 'moreover', 'both', 'across', 'call', 'nevertheless', 'somehow', 'otherwise', 'still', 'down', 'she', 'around', 'part', 're', 'hence', 'therein', 'beforehand', 'always', 'only', 'so', 'yourself', 'two', 'under', 'someone', 'since', 'there', 'never', 'him', 'mine', 'also', 'serious', 'did', 'until', 'once', 'anyhow', 'nobody', 'therefore', 'they', 'becoming', 'few', 'have', 'elsewhere', 'already', 'perhaps', 'we', 'per', 'nine', 'name', 'fifty', 'whence', 'herein', 'of', 'an', 'after', 'has', 'than', 'may', 'us', 'anyway', 'everyone', 'put', 'same', 'their', 'would', 'next', 'former', 'please', 'seem', 'should', 'hereupon', 'yours', 'were', 'themselves', 'something', 'thereafter', 'but', 'then', 'whatever', 'everywhere', 'between', 'forty', 'get', 'on', 'which', 'some', 'had', 'afterwards', 'beyond', 'are'}\n"
     ]
    }
   ],
   "source": [
    "# Print the set of spaCy's default stop words (remember that sets are unordered):\n",
    "print(nlp.Defaults.stop_words)"
   ]
  },
  {
   "cell_type": "code",
   "execution_count": 3,
   "metadata": {},
   "outputs": [
    {
     "data": {
      "text/plain": [
       "305"
      ]
     },
     "execution_count": 3,
     "metadata": {},
     "output_type": "execute_result"
    }
   ],
   "source": [
    "len(nlp.Defaults.stop_words)"
   ]
  },
  {
   "cell_type": "markdown",
   "metadata": {},
   "source": [
    "## To see if a word is a stop word"
   ]
  },
  {
   "cell_type": "code",
   "execution_count": 4,
   "metadata": {},
   "outputs": [
    {
     "data": {
      "text/plain": [
       "True"
      ]
     },
     "execution_count": 4,
     "metadata": {},
     "output_type": "execute_result"
    }
   ],
   "source": [
    "nlp.vocab['myself'].is_stop"
   ]
  },
  {
   "cell_type": "code",
   "execution_count": 5,
   "metadata": {},
   "outputs": [
    {
     "data": {
      "text/plain": [
       "False"
      ]
     },
     "execution_count": 5,
     "metadata": {},
     "output_type": "execute_result"
    }
   ],
   "source": [
    "nlp.vocab['mystery'].is_stop"
   ]
  },
  {
   "cell_type": "markdown",
   "metadata": {},
   "source": [
    "## To add a stop word\n",
    "There may be times when you wish to add a stop word to the default set. Perhaps you decide that `'btw'` (common shorthand for \"by the way\") should be considered a stop word."
   ]
  },
  {
   "cell_type": "code",
   "execution_count": 6,
   "metadata": {
    "collapsed": true
   },
   "outputs": [],
   "source": [
    "# Add the word to the set of stop words. Use lowercase!\n",
    "nlp.Defaults.stop_words.add('btw')\n",
    "\n",
    "# Set the stop_word tag on the lexeme\n",
    "nlp.vocab['btw'].is_stop = True"
   ]
  },
  {
   "cell_type": "code",
   "execution_count": 7,
   "metadata": {},
   "outputs": [
    {
     "data": {
      "text/plain": [
       "306"
      ]
     },
     "execution_count": 7,
     "metadata": {},
     "output_type": "execute_result"
    }
   ],
   "source": [
    "len(nlp.Defaults.stop_words)"
   ]
  },
  {
   "cell_type": "code",
   "execution_count": 8,
   "metadata": {},
   "outputs": [
    {
     "data": {
      "text/plain": [
       "True"
      ]
     },
     "execution_count": 8,
     "metadata": {},
     "output_type": "execute_result"
    }
   ],
   "source": [
    "nlp.vocab['btw'].is_stop"
   ]
  },
  {
   "cell_type": "markdown",
   "metadata": {},
   "source": [
    "<font color=green>When adding stop words, always use lowercase. Lexemes are converted to lowercase before being added to **vocab**.</font>"
   ]
  },
  {
   "cell_type": "markdown",
   "metadata": {},
   "source": [
    "## To remove a stop word\n",
    "Alternatively, you may decide that `'beyond'` should not be considered a stop word."
   ]
  },
  {
   "cell_type": "code",
   "execution_count": 9,
   "metadata": {
    "collapsed": true
   },
   "outputs": [],
   "source": [
    "# Remove the word from the set of stop words\n",
    "nlp.Defaults.stop_words.remove('beyond')\n",
    "\n",
    "# Remove the stop_word tag from the lexeme\n",
    "nlp.vocab['beyond'].is_stop = False"
   ]
  },
  {
   "cell_type": "code",
   "execution_count": 10,
   "metadata": {},
   "outputs": [
    {
     "data": {
      "text/plain": [
       "305"
      ]
     },
     "execution_count": 10,
     "metadata": {},
     "output_type": "execute_result"
    }
   ],
   "source": [
    "len(nlp.Defaults.stop_words)"
   ]
  },
  {
   "cell_type": "code",
   "execution_count": 11,
   "metadata": {},
   "outputs": [
    {
     "data": {
      "text/plain": [
       "False"
      ]
     },
     "execution_count": 11,
     "metadata": {},
     "output_type": "execute_result"
    }
   ],
   "source": [
    "nlp.vocab['beyond'].is_stop"
   ]
  },
  {
   "cell_type": "markdown",
   "metadata": {},
   "source": [
    "Great! Now you should be able to access spaCy's default set of stop words, and add or remove stop words as needed.\n",
    "## Next up: Vocabulary and Matching"
   ]
  }
 ],
 "metadata": {
  "kernelspec": {
   "display_name": "Python 3",
   "language": "python",
   "name": "python3"
  },
  "language_info": {
   "codemirror_mode": {
    "name": "ipython",
    "version": 3
   },
   "file_extension": ".py",
   "mimetype": "text/x-python",
   "name": "python",
   "nbconvert_exporter": "python",
   "pygments_lexer": "ipython3",
   "version": "3.6.2"
  }
 },
 "nbformat": 4,
 "nbformat_minor": 2
}
